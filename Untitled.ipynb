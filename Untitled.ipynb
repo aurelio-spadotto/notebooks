{
 "cells": [
  {
   "cell_type": "code",
   "execution_count": 1,
   "id": "b9821692",
   "metadata": {},
   "outputs": [
    {
     "ename": "ModuleNotFoundError",
     "evalue": "No module named 'meshio'",
     "output_type": "error",
     "traceback": [
      "\u001b[0;31m---------------------------------------------------------------------------\u001b[0m",
      "\u001b[0;31mModuleNotFoundError\u001b[0m                       Traceback (most recent call last)",
      "\u001b[0;32m/tmp/ipykernel_7475/2853860282.py\u001b[0m in \u001b[0;36m<module>\u001b[0;34m\u001b[0m\n\u001b[0;32m----> 1\u001b[0;31m \u001b[0;32mimport\u001b[0m \u001b[0mmeshio\u001b[0m\u001b[0;34m\u001b[0m\u001b[0;34m\u001b[0m\u001b[0m\n\u001b[0m\u001b[1;32m      2\u001b[0m \u001b[0;34m\u001b[0m\u001b[0m\n\u001b[1;32m      3\u001b[0m \u001b[0;31m# Specify the path to your Gmsh mesh file\u001b[0m\u001b[0;34m\u001b[0m\u001b[0;34m\u001b[0m\u001b[0m\n\u001b[1;32m      4\u001b[0m \u001b[0mmesh_file_path\u001b[0m \u001b[0;34m=\u001b[0m \u001b[0;34m\"/homes/spadottoa/meshes/square.msh\"\u001b[0m\u001b[0;34m\u001b[0m\u001b[0;34m\u001b[0m\u001b[0m\n\u001b[1;32m      5\u001b[0m \u001b[0;34m\u001b[0m\u001b[0m\n",
      "\u001b[0;31mModuleNotFoundError\u001b[0m: No module named 'meshio'"
     ]
    }
   ],
   "source": [
    "import meshio\n",
    "\n",
    "# Specify the path to your Gmsh mesh file\n",
    "mesh_file_path = \"/homes/spadottoa/meshes/square.msh\"\n",
    "\n",
    "# Read the mesh using meshio\n",
    "mesh = meshio.read(mesh_file_path)\n",
    "\n",
    "# Access mesh data\n",
    "points = mesh.points\n",
    "cells = mesh.cells\n",
    "cell_data = mesh.cell_data\n",
    "point_data = mesh.point_data\n",
    "\n",
    "# Do further processing with the mesh data as needed\n"
   ]
  },
  {
   "cell_type": "code",
   "execution_count": null,
   "id": "e2008ae8",
   "metadata": {},
   "outputs": [],
   "source": []
  }
 ],
 "metadata": {
  "kernelspec": {
   "display_name": "Python [conda env:root] *",
   "language": "python",
   "name": "conda-root-py"
  },
  "language_info": {
   "codemirror_mode": {
    "name": "ipython",
    "version": 3
   },
   "file_extension": ".py",
   "mimetype": "text/x-python",
   "name": "python",
   "nbconvert_exporter": "python",
   "pygments_lexer": "ipython3",
   "version": "3.9.7"
  }
 },
 "nbformat": 4,
 "nbformat_minor": 5
}
