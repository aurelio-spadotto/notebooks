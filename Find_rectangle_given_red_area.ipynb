{
 "cells": [
  {
   "cell_type": "code",
   "execution_count": 1,
   "id": "15cf470a",
   "metadata": {},
   "outputs": [],
   "source": [
    "import numpy as np\n",
    "import scipy.optimize as opt"
   ]
  },
  {
   "cell_type": "code",
   "execution_count": 5,
   "id": "3e79d358",
   "metadata": {},
   "outputs": [],
   "source": [
    "b = 1\n",
    "red_area = 0.65\n",
    "def f(h):\n",
    "    perim = 2*(h+b)\n",
    "    R_eff = perim/(2*np.pi)\n",
    "    Area_circle = np.pi*R_eff**2\n",
    "    Area_rec = h*b\n",
    "    return Area_rec-red_area*Area_circle"
   ]
  },
  {
   "cell_type": "code",
   "execution_count": 9,
   "id": "c583a4f5",
   "metadata": {},
   "outputs": [
    {
     "name": "stdout",
     "output_type": "stream",
     "text": [
      "1 0.4132238969085922 0.4498431377771871\n"
     ]
    }
   ],
   "source": [
    "h0 = 0.0\n",
    "h = opt.newton(f, h0)\n",
    "perim = 2*(h+b)\n",
    "R_eff = perim/(2*np.pi)\n",
    "print (b,h,R_eff)"
   ]
  },
  {
   "cell_type": "code",
   "execution_count": 10,
   "id": "385a66a6",
   "metadata": {},
   "outputs": [
    {
     "name": "stdout",
     "output_type": "stream",
     "text": [
      "0.9185955329905846 2.2229971205992087\n"
     ]
    }
   ],
   "source": [
    "#normalization\n",
    "h_norm=h/R_eff\n",
    "b_norm=b/R_eff\n",
    "print (h_norm, b_norm)"
   ]
  },
  {
   "cell_type": "code",
   "execution_count": null,
   "id": "1acc81e1",
   "metadata": {},
   "outputs": [],
   "source": []
  }
 ],
 "metadata": {
  "kernelspec": {
   "display_name": "Python [conda env:rbc]",
   "language": "python",
   "name": "conda-env-rbc-py"
  },
  "language_info": {
   "codemirror_mode": {
    "name": "ipython",
    "version": 3
   },
   "file_extension": ".py",
   "mimetype": "text/x-python",
   "name": "python",
   "nbconvert_exporter": "python",
   "pygments_lexer": "ipython3",
   "version": "3.7.11"
  }
 },
 "nbformat": 4,
 "nbformat_minor": 5
}
