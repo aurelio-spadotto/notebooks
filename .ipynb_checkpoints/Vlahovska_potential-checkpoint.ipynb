{
 "cells": [
  {
   "cell_type": "code",
   "execution_count": 22,
   "id": "3339d47c",
   "metadata": {},
   "outputs": [],
   "source": [
    "import numpy as np\n",
    "import matplotlib.pyplot as plt\n",
    "from matplotlib import cm"
   ]
  },
  {
   "cell_type": "code",
   "execution_count": 35,
   "id": "31425180",
   "metadata": {},
   "outputs": [],
   "source": [
    "V = 0.0\n",
    "CR = 1.0\n",
    "E0 = 1.0\n",
    "R = 0.25\n",
    "P_in = (3-2*V)/(2+CR)\n",
    "P_ex = ((1-CR) + CR*V)/(2+CR)\n",
    "Phi_in = lambda theta, phi, r: -P_in*r*E0*np.sin(theta)*np.sin(phi)\n",
    "Phi_ex = lambda theta, phi, r: -(r+P_ex*r**(-2))*E0*np.sin(phi)*np.sin(theta)\n",
    "\n",
    "def Phi(x,y):\n",
    "    r = np.sqrt(x**2+y**2)\n",
    "    theta = 0.5*np.pi\n",
    "    phi = np.arcsin(y/r)\n",
    "    if (r<R):\n",
    "        return Phi_in(theta,phi,r)\n",
    "    else:\n",
    "        return Phi_ex(theta,phi,r)"
   ]
  },
  {
   "cell_type": "code",
   "execution_count": 36,
   "id": "3c920c2c",
   "metadata": {},
   "outputs": [
    {
     "data": {
      "text/plain": [
       "<matplotlib.contour.QuadContourSet at 0x7ff0344ef940>"
      ]
     },
     "execution_count": 36,
     "metadata": {},
     "output_type": "execute_result"
    },
    {
     "data": {
      "image/png": "[encoded data removed]",
      "text/plain": [
       "<Figure size 576x576 with 1 Axes>"
      ]
     },
     "metadata": {
      "needs_background": "light"
     },
     "output_type": "display_data"
    }
   ],
   "source": [
    "xx = np.linspace(-1,1,500)\n",
    "yy = np.linspace(-1,1,500)\n",
    "pot = np.array([Phi(x,y) for x in xx for y in yy])\n",
    "XX, YY = np.meshgrid(xx,yy)\n",
    "pot = pot.reshape(500,500)\n",
    "fig, ax = plt.subplots(figsize = (8,8))\n",
    "ax.contourf(XX, YY, pot, 20, cmap = cm.jet)\n",
    "#ax.pcolor(XX,YY,pot, shading='auto')"
   ]
  },
  {
   "cell_type": "code",
   "execution_count": 12,
   "id": "739a2da5",
   "metadata": {},
   "outputs": [
    {
     "data": {
      "text/plain": [
       "(250000,)"
      ]
     },
     "execution_count": 12,
     "metadata": {},
     "output_type": "execute_result"
    }
   ],
   "source": [
    "pot.shape"
   ]
  },
  {
   "cell_type": "code",
   "execution_count": null,
   "id": "18407eb5",
   "metadata": {},
   "outputs": [],
   "source": []
  }
 ],
 "metadata": {
  "kernelspec": {
   "display_name": "Python 3 (ipykernel)",
   "language": "python",
   "name": "python3"
  },
  "language_info": {
   "codemirror_mode": {
    "name": "ipython",
    "version": 3
   },
   "file_extension": ".py",
   "mimetype": "text/x-python",
   "name": "python",
   "nbconvert_exporter": "python",
   "pygments_lexer": "ipython3",
   "version": "3.9.7"
  }
 },
 "nbformat": 4,
 "nbformat_minor": 5
}
