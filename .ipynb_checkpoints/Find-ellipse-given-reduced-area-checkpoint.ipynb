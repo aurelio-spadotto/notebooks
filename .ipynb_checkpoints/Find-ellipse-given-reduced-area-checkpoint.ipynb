{
 "cells": [
  {
   "cell_type": "code",
   "execution_count": 1,
   "id": "c7ea69e9",
   "metadata": {},
   "outputs": [],
   "source": [
    "import numpy as np\n",
    "import scipy.optimize as opt"
   ]
  },
  {
   "cell_type": "code",
   "execution_count": 3,
   "id": "ec53da7d",
   "metadata": {},
   "outputs": [
    {
     "name": "stdout",
     "output_type": "stream",
     "text": [
      "BEFORE SCALING\n",
      "a:  0.5567262498321914\n",
      "b:  1\n",
      "R_eff  0.8093034403893932\n",
      "AFTER SCALING\n",
      "a  0.6879079243309837\n",
      "b  1.2356304818361503\n",
      "R_eff 1.0\n",
      "Area ellipse:  2.670353755551322\n",
      "Area circle eq:  3.141592653589793\n",
      "Reduced Area:  0.8499999999999993\n",
      "Perimeter Circle:  6.283185307179586\n",
      "Perimeter Ellipse:  5.085003485704525\n"
     ]
    }
   ],
   "source": [
    "b = 1\n",
    "def red_area(a):\n",
    "    ellipse_perimeter = 2*np.pi*np.sqrt((a**2+b**2)/2)\n",
    "    ellipse_area = np.pi*a*b\n",
    "    R_eff = ellipse_perimeter/(2*np.pi)\n",
    "    ratio = ellipse_area/(np.pi*R_eff**2)\n",
    "    return ratio - 0.85\n",
    "\n",
    "a0 = 0.0\n",
    "zero = opt.newton(red_area, a0)\n",
    "print (\"BEFORE SCALING\")\n",
    "print ('a: ',zero)\n",
    "print ('b: ', b)\n",
    "a = zero\n",
    "ellipse_perimeter = 2*np.pi*np.sqrt((a**2+b**2)/2)\n",
    "ellipse_area = np.pi*a*b\n",
    "R_eff = ellipse_perimeter/(2*np.pi)\n",
    "print (\"R_eff \", R_eff)\n",
    "# rescale\n",
    "print(\"AFTER SCALING\")\n",
    "a = a/R_eff\n",
    "b = b/R_eff\n",
    "R_eff = R_eff/R_eff\n",
    "print (\"a \", a)\n",
    "print (\"b \", b)\n",
    "print(\"R_eff\", R_eff)\n",
    "print (\"Area ellipse: \", np.pi*a*b)\n",
    "print (\"Area circle eq: \", np.pi*R_eff**2)\n",
    "print (\"Reduced Area: \", np.pi*a*b/(np.pi*R_eff**2))\n",
    "print (\"Perimeter Circle: \", 2*np.pi*R_eff)\n",
    "print (\"Perimeter Ellipse: \", ellipse_perimeter)"
   ]
  },
  {
   "cell_type": "code",
   "execution_count": 4,
   "id": "3d13219c",
   "metadata": {},
   "outputs": [
    {
     "data": {
      "image/png": "[encoded data removed]",
      "text/plain": [
       "<Figure size 432x288 with 1 Axes>"
      ]
     },
     "metadata": {
      "needs_background": "light"
     },
     "output_type": "display_data"
    }
   ],
   "source": [
    "import matplotlib.pyplot as plt\n",
    "from matplotlib.patches import Ellipse\n",
    "# Create a new figure\n",
    "fig, ax = plt.subplots()\n",
    "ax.axis('equal')\n",
    "# Create the ellipse patch\n",
    "ellipse = Ellipse((0, 0), 2*b, 2*a, linewidth=2, fill=False)\n",
    "\n",
    "# Add the ellipse to the plot\n",
    "ax.add_patch(ellipse)\n",
    "\n",
    "# Set the limits of the plot\n",
    "ax.set_ylim(-a-1, a+1)\n",
    "ax.set_xlim(-b-1, b+1)\n",
    "\n",
    "# Show the plot\n",
    "plt.show()"
   ]
  },
  {
   "cell_type": "code",
   "execution_count": null,
   "id": "05b9c6a0",
   "metadata": {},
   "outputs": [],
   "source": []
  }
 ],
 "metadata": {
  "kernelspec": {
   "display_name": "Python [conda env:root] *",
   "language": "python",
   "name": "conda-root-py"
  },
  "language_info": {
   "codemirror_mode": {
    "name": "ipython",
    "version": 3
   },
   "file_extension": ".py",
   "mimetype": "text/x-python",
   "name": "python",
   "nbconvert_exporter": "python",
   "pygments_lexer": "ipython3",
   "version": "3.9.7"
  }
 },
 "nbformat": 4,
 "nbformat_minor": 5
}
