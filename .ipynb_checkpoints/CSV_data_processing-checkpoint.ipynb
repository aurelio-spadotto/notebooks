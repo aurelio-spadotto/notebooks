{
 "cells": [
  {
   "cell_type": "code",
   "execution_count": 26,
   "id": "3ad8fd84",
   "metadata": {},
   "outputs": [],
   "source": [
    "import csv\n",
    "import numpy as np\n",
    "N = 500\n",
    "table = np.zeros([(N+1)*(N+1), 3])\n",
    "with open('../freefem_models/error.csv', newline='') as csvfile:\n",
    "    reader = csv.reader(csvfile, delimiter=',', quotechar='|')\n",
    "    has_header = csv.Sniffer().has_header(csvfile.read(1024))\n",
    "    csvfile.seek(0)  # Rewind\n",
    "    if has_header:\n",
    "        next(reader) # Skip header row\n",
    "    i = 0\n",
    "    for row in reader:\n",
    "        table[i,0]= float(row[0])\n",
    "        table[i,1]= float(row[1])\n",
    "        table[i,2]= float(row[3])\n",
    "        i = i +1\n",
    "\n",
    "sort_index = np.lexsort((table[:,1],table[:,0]))\n",
    "field = np.zeros([(N+1)*(N+1),3])\n",
    "for i in range(field.shape[0]):\n",
    "    field[i,:] = table[sort_index[i],:]"
   ]
  },
  {
   "cell_type": "code",
   "execution_count": 38,
   "id": "8f6ab280",
   "metadata": {},
   "outputs": [
    {
     "data": {
      "text/plain": [
       "<matplotlib.contour.QuadContourSet at 0x7fc6e48f7190>"
      ]
     },
     "execution_count": 38,
     "metadata": {},
     "output_type": "execute_result"
    },
    {
     "data": {
      "image/png": "[encoded data removed]",
      "text/plain": [
       "<Figure size 720x720 with 1 Axes>"
      ]
     },
     "metadata": {
      "needs_background": "light"
     },
     "output_type": "display_data"
    }
   ],
   "source": [
    "xx = np.unique(table[:,0])\n",
    "yy = np.unique(table[:,1])\n",
    "XX,YY = np.meshgrid(xx,yy)\n",
    "squared_field = field[:,2].reshape(N+1,N+1)\n",
    "import matplotlib.pyplot as plt\n",
    "fig, ax = plt.subplots(figsize=(10,10))\n",
    "ax.contourf(XX,YY, squared_field)\n"
   ]
  },
  {
   "cell_type": "code",
   "execution_count": 47,
   "id": "bfac9c4f",
   "metadata": {},
   "outputs": [],
   "source": [
    "#Norm Calculations\n",
    "#L_inf norm\n",
    "L_inf_norm = max(abs(field[:,2]))\n",
    "#L2 norm\n",
    "h = 2./N\n",
    "L2_norm = h*np.sqrt(np.sum(field[:,2]**2))\n",
    "#Energy norm (L2 norm of gradient)\n",
    "field_gradient = np.zeros([N,N,2])\n",
    "for i in range(N):\n",
    "    for j in range(N):\n",
    "        field_gradient[i,j,0]  = (squared_field[i+1,j]-squared_field[i,j])/h\n",
    "        field_gradient[i,j,1]  = (squared_field[i,j+1]-squared_field[i,j])/h\n",
    "field_gradient = field_gradient.reshape([N**2,2])\n",
    "Energy_norm = h*np.sqrt(np.sum(np.linalg.norm(field_gradient, axis=1)**2))"
   ]
  },
  {
   "cell_type": "code",
   "execution_count": 48,
   "id": "9cf1c1cc",
   "metadata": {},
   "outputs": [
    {
     "name": "stdout",
     "output_type": "stream",
     "text": [
      "L_inf norm:  0.03931021318\n",
      "L2 norm:  0.0006056539987903139\n",
      "Energy norm:  0.13080508283821796\n"
     ]
    }
   ],
   "source": [
    "print (\"L_inf norm: \", L_inf_norm)\n",
    "print (\"L2 norm: \", L2_norm)\n",
    "print (\"Energy norm: \", Energy_norm)"
   ]
  },
  {
   "cell_type": "code",
   "execution_count": null,
   "id": "976627fb",
   "metadata": {},
   "outputs": [],
   "source": []
  }
 ],
 "metadata": {
  "kernelspec": {
   "display_name": "Python 3 (ipykernel)",
   "language": "python",
   "name": "python3"
  },
  "language_info": {
   "codemirror_mode": {
    "name": "ipython",
    "version": 3
   },
   "file_extension": ".py",
   "mimetype": "text/x-python",
   "name": "python",
   "nbconvert_exporter": "python",
   "pygments_lexer": "ipython3",
   "version": "3.9.7"
  }
 },
 "nbformat": 4,
 "nbformat_minor": 5
}
